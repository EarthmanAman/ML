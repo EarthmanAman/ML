{
 "cells": [
  {
   "cell_type": "markdown",
   "metadata": {},
   "source": [
    "# Importing Modules to help in the analysing phase.\n",
    "    We will use pandas and numpy for data manipulation and\n",
    "    minisom a python package designed to do computation on Self Organizing Maps."
   ]
  },
  {
   "cell_type": "code",
   "execution_count": 31,
   "metadata": {},
   "outputs": [],
   "source": [
    "import pandas as pd\n",
    "import numpy as np\n",
    "from minisom import MiniSom\n",
    "from sklearn import preprocessing"
   ]
  },
  {
   "cell_type": "markdown",
   "metadata": {},
   "source": [
    "# Reading Dataset and assign meaningful name to the columns index"
   ]
  },
  {
   "cell_type": "code",
   "execution_count": 32,
   "metadata": {},
   "outputs": [
    {
     "data": {
      "text/html": [
       "<div>\n",
       "<style scoped>\n",
       "    .dataframe tbody tr th:only-of-type {\n",
       "        vertical-align: middle;\n",
       "    }\n",
       "\n",
       "    .dataframe tbody tr th {\n",
       "        vertical-align: top;\n",
       "    }\n",
       "\n",
       "    .dataframe thead th {\n",
       "        text-align: right;\n",
       "    }\n",
       "</style>\n",
       "<table border=\"1\" class=\"dataframe\">\n",
       "  <thead>\n",
       "    <tr style=\"text-align: right;\">\n",
       "      <th></th>\n",
       "      <th>age</th>\n",
       "      <th>sex</th>\n",
       "      <th>chest pain type</th>\n",
       "      <th>resting blood pressure</th>\n",
       "      <th>serum cholestoral in mg/dl</th>\n",
       "      <th>fasting blood sugar &gt; 120 mg/dl</th>\n",
       "      <th>resting electrocardiographic results</th>\n",
       "      <th>maximum heart rate achieved</th>\n",
       "      <th>exercise induced angina</th>\n",
       "      <th>oldpeak</th>\n",
       "      <th>the slope of the peak exercise</th>\n",
       "      <th>number of major vessels</th>\n",
       "      <th>thal</th>\n",
       "      <th>result</th>\n",
       "    </tr>\n",
       "  </thead>\n",
       "  <tbody>\n",
       "    <tr>\n",
       "      <th>0</th>\n",
       "      <td>70.0</td>\n",
       "      <td>1.0</td>\n",
       "      <td>4.0</td>\n",
       "      <td>130.0</td>\n",
       "      <td>322.0</td>\n",
       "      <td>0.0</td>\n",
       "      <td>2.0</td>\n",
       "      <td>109.0</td>\n",
       "      <td>0.0</td>\n",
       "      <td>2.4</td>\n",
       "      <td>2.0</td>\n",
       "      <td>3.0</td>\n",
       "      <td>3.0</td>\n",
       "      <td>2</td>\n",
       "    </tr>\n",
       "    <tr>\n",
       "      <th>1</th>\n",
       "      <td>67.0</td>\n",
       "      <td>0.0</td>\n",
       "      <td>3.0</td>\n",
       "      <td>115.0</td>\n",
       "      <td>564.0</td>\n",
       "      <td>0.0</td>\n",
       "      <td>2.0</td>\n",
       "      <td>160.0</td>\n",
       "      <td>0.0</td>\n",
       "      <td>1.6</td>\n",
       "      <td>2.0</td>\n",
       "      <td>0.0</td>\n",
       "      <td>7.0</td>\n",
       "      <td>1</td>\n",
       "    </tr>\n",
       "    <tr>\n",
       "      <th>2</th>\n",
       "      <td>57.0</td>\n",
       "      <td>1.0</td>\n",
       "      <td>2.0</td>\n",
       "      <td>124.0</td>\n",
       "      <td>261.0</td>\n",
       "      <td>0.0</td>\n",
       "      <td>0.0</td>\n",
       "      <td>141.0</td>\n",
       "      <td>0.0</td>\n",
       "      <td>0.3</td>\n",
       "      <td>1.0</td>\n",
       "      <td>0.0</td>\n",
       "      <td>7.0</td>\n",
       "      <td>2</td>\n",
       "    </tr>\n",
       "    <tr>\n",
       "      <th>3</th>\n",
       "      <td>64.0</td>\n",
       "      <td>1.0</td>\n",
       "      <td>4.0</td>\n",
       "      <td>128.0</td>\n",
       "      <td>263.0</td>\n",
       "      <td>0.0</td>\n",
       "      <td>0.0</td>\n",
       "      <td>105.0</td>\n",
       "      <td>1.0</td>\n",
       "      <td>0.2</td>\n",
       "      <td>2.0</td>\n",
       "      <td>1.0</td>\n",
       "      <td>7.0</td>\n",
       "      <td>1</td>\n",
       "    </tr>\n",
       "    <tr>\n",
       "      <th>4</th>\n",
       "      <td>74.0</td>\n",
       "      <td>0.0</td>\n",
       "      <td>2.0</td>\n",
       "      <td>120.0</td>\n",
       "      <td>269.0</td>\n",
       "      <td>0.0</td>\n",
       "      <td>2.0</td>\n",
       "      <td>121.0</td>\n",
       "      <td>1.0</td>\n",
       "      <td>0.2</td>\n",
       "      <td>1.0</td>\n",
       "      <td>1.0</td>\n",
       "      <td>3.0</td>\n",
       "      <td>1</td>\n",
       "    </tr>\n",
       "  </tbody>\n",
       "</table>\n",
       "</div>"
      ],
      "text/plain": [
       "    age  sex  chest pain type  resting blood pressure  \\\n",
       "0  70.0  1.0              4.0                   130.0   \n",
       "1  67.0  0.0              3.0                   115.0   \n",
       "2  57.0  1.0              2.0                   124.0   \n",
       "3  64.0  1.0              4.0                   128.0   \n",
       "4  74.0  0.0              2.0                   120.0   \n",
       "\n",
       "   serum cholestoral in mg/dl  fasting blood sugar > 120 mg/dl  \\\n",
       "0                       322.0                              0.0   \n",
       "1                       564.0                              0.0   \n",
       "2                       261.0                              0.0   \n",
       "3                       263.0                              0.0   \n",
       "4                       269.0                              0.0   \n",
       "\n",
       "   resting electrocardiographic results  maximum heart rate achieved  \\\n",
       "0                                   2.0                        109.0   \n",
       "1                                   2.0                        160.0   \n",
       "2                                   0.0                        141.0   \n",
       "3                                   0.0                        105.0   \n",
       "4                                   2.0                        121.0   \n",
       "\n",
       "   exercise induced angina  oldpeak  the slope of the peak exercise  \\\n",
       "0                      0.0      2.4                             2.0   \n",
       "1                      0.0      1.6                             2.0   \n",
       "2                      0.0      0.3                             1.0   \n",
       "3                      1.0      0.2                             2.0   \n",
       "4                      1.0      0.2                             1.0   \n",
       "\n",
       "   number of major vessels  thal  result  \n",
       "0                      3.0   3.0       2  \n",
       "1                      0.0   7.0       1  \n",
       "2                      0.0   7.0       2  \n",
       "3                      1.0   7.0       1  \n",
       "4                      1.0   3.0       1  "
      ]
     },
     "execution_count": 32,
     "metadata": {},
     "output_type": "execute_result"
    }
   ],
   "source": [
    "data = pd.read_csv(\"heart.data.txt\", sep=\" \", header=None)\n",
    "column_names = {0:\"age\", 1:\"sex\", 2:\"chest pain type\", 3:\"resting blood pressure\", 4:\"serum cholestoral in mg/dl\", 5:\"fasting blood sugar > 120 mg/dl\", 6:\"resting electrocardiographic results\", 7:\"maximum heart rate achieved\", 8:\"exercise induced angina\", 9:\"oldpeak\", 10:\"the slope of the peak exercise\", 11:\"number of major vessels\", 12:\"thal\",13:\"result\"}\n",
    "d = data.rename(columns=column_names)\n",
    "d.head()"
   ]
  },
  {
   "cell_type": "markdown",
   "metadata": {},
   "source": [
    "# Converting a pandas dataframe into a numpy ndarray and sklearn to normalize the data\n",
    "    We will use columns 0 to 12 for our analysis\n",
    "    We will use the sklearn preprocessing to normalize the data"
   ]
  },
  {
   "cell_type": "code",
   "execution_count": 88,
   "metadata": {},
   "outputs": [
    {
     "data": {
      "text/plain": [
       "array([[0.18883519, 0.00269765, 0.01079058, ..., 0.00539529, 0.00809294,\n",
       "        0.00809294],\n",
       "       [0.11143806, 0.        , 0.00498976, ..., 0.00332651, 0.        ,\n",
       "        0.01164278],\n",
       "       [0.17451353, 0.00306164, 0.00612328, ..., 0.00306164, 0.        ,\n",
       "        0.02143149],\n",
       "       ...,\n",
       "       [0.15378367, 0.        , 0.00549227, ..., 0.00549227, 0.        ,\n",
       "        0.00823841],\n",
       "       [0.1994493 , 0.00349911, 0.01399644, ..., 0.00699822, 0.        ,\n",
       "        0.02099466],\n",
       "       [0.1905785 , 0.00284446, 0.01137782, ..., 0.00568891, 0.00853337,\n",
       "        0.00853337]])"
      ]
     },
     "execution_count": 88,
     "metadata": {},
     "output_type": "execute_result"
    }
   ],
   "source": [
    "columns = data[[0,1,2,3,4,5,6,7,8,9,10,11,12]]\n",
    "array = preprocessing.normalize(columns) # Normlizing data\n",
    "\n",
    "array"
   ]
  },
  {
   "cell_type": "markdown",
   "metadata": {},
   "source": [
    "# Initializing The MiniSom model by passing\n",
    "    x and y = dimension of the map - we will have a small map for easy differentiating\n",
    "    input_len = number of features to be used from the dataset\n",
    "    sigma = Radius from the BMU\n",
    "    learning rate"
   ]
  },
  {
   "cell_type": "code",
   "execution_count": 109,
   "metadata": {},
   "outputs": [],
   "source": [
    "som = MiniSom(x= 20, y = 20, input_len = 13, sigma=0.1, learning_rate=0.2)\n",
    "som.random_weights_init(array) # Initializing random weights which will be changed"
   ]
  },
  {
   "cell_type": "markdown",
   "metadata": {},
   "source": [
    "# Trainig the model"
   ]
  },
  {
   "cell_type": "code",
   "execution_count": 110,
   "metadata": {},
   "outputs": [],
   "source": [
    "som.train_batch(array, 200)"
   ]
  },
  {
   "cell_type": "markdown",
   "metadata": {},
   "source": [
    "# Selecting Two patient who have not suffered heart disease"
   ]
  },
  {
   "cell_type": "code",
   "execution_count": 111,
   "metadata": {},
   "outputs": [
    {
     "data": {
      "text/plain": [
       "(1, 19)"
      ]
     },
     "execution_count": 111,
     "metadata": {},
     "output_type": "execute_result"
    }
   ],
   "source": [
    "one = array[0]\n",
    "som.winner(one)"
   ]
  },
  {
   "cell_type": "code",
   "execution_count": 112,
   "metadata": {},
   "outputs": [
    {
     "data": {
      "text/plain": [
       "(2, 14)"
      ]
     },
     "execution_count": 112,
     "metadata": {},
     "output_type": "execute_result"
    }
   ],
   "source": [
    "two = array[1]\n",
    "som.winner(two)"
   ]
  },
  {
   "cell_type": "markdown",
   "metadata": {},
   "source": [
    "# Picking a patient diagnosed with heart disease"
   ]
  },
  {
   "cell_type": "code",
   "execution_count": 113,
   "metadata": {},
   "outputs": [
    {
     "data": {
      "text/plain": [
       "(12, 9)"
      ]
     },
     "execution_count": 113,
     "metadata": {},
     "output_type": "execute_result"
    }
   ],
   "source": [
    "som.winner(array[13])"
   ]
  },
  {
   "cell_type": "markdown",
   "metadata": {},
   "source": []
  },
  {
   "cell_type": "code",
   "execution_count": null,
   "metadata": {},
   "outputs": [],
   "source": []
  },
  {
   "cell_type": "code",
   "execution_count": null,
   "metadata": {},
   "outputs": [],
   "source": []
  }
 ],
 "metadata": {
  "kernelspec": {
   "display_name": "Python 3",
   "language": "python",
   "name": "python3"
  },
  "language_info": {
   "codemirror_mode": {
    "name": "ipython",
    "version": 3
   },
   "file_extension": ".py",
   "mimetype": "text/x-python",
   "name": "python",
   "nbconvert_exporter": "python",
   "pygments_lexer": "ipython3",
   "version": "3.7.3"
  }
 },
 "nbformat": 4,
 "nbformat_minor": 2
}
